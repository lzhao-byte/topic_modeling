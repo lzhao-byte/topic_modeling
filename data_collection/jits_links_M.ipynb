{
 "metadata": {
  "language_info": {
   "codemirror_mode": {
    "name": "ipython",
    "version": 3
   },
   "file_extension": ".py",
   "mimetype": "text/x-python",
   "name": "python",
   "nbconvert_exporter": "python",
   "pygments_lexer": "ipython3",
   "version": "3.8.3-final"
  },
  "orig_nbformat": 2,
  "kernelspec": {
   "name": "python_defaultSpec_1598692482294",
   "display_name": "Python 3.8.3 64-bit ('base': conda)"
  }
 },
 "nbformat": 4,
 "nbformat_minor": 2,
 "cells": [
  {
   "cell_type": "markdown",
   "metadata": {},
   "source": [
    "## Grab links for jits\n",
    "\n",
    "### Outputs (TODO)\n",
    "\n",
    "- PAPERS_INFO/JITS/JITS_ISSUE_LINKS\n",
    "- PAPERS_INFO/JITS/JITS_PAPER_LINKS"
   ]
  },
  {
   "cell_type": "code",
   "execution_count": 2,
   "metadata": {},
   "outputs": [],
   "source": [
    "import requests\n",
    "from bs4 import BeautifulSoup\n",
    "import pandas as pd \n",
    "import numpy as np\n",
    "import time\n",
    "import sqlite3 as sql"
   ]
  },
  {
   "cell_type": "code",
   "execution_count": 3,
   "metadata": {
    "tags": []
   },
   "outputs": [],
   "source": [
    "headers = {'User-Agent': 'Mozilla/5.0 (Macintosh; Intel Mac OS X 10_11_5) AppleWebKit/537.36 (KHTML, like Gecko) Chrome/50.0.2661.102 Safari/537.36'}"
   ]
  },
  {
   "cell_type": "code",
   "execution_count": 22,
   "metadata": {
    "tags": []
   },
   "outputs": [],
   "source": [
    "# journal of intelligent transportation systems\n",
    "base_url = 'https://www.tandfonline.com/toc/gits20' # all issues\n",
    "\n",
    "vols = range(14, 25) # vol14: 2010, vol24: 2020\n",
    "year = 2010\n",
    "issues = range(1,7)\n",
    "\n",
    "urls = []\n",
    "\n",
    "for vol in vols:\n",
    "    if vol <= 19:\n",
    "        for issue in range(1, 5):\n",
    "            url = base_url + \"/\" + str(vol) + \"/\" + str(issue) + '?nav=tocList'\n",
    "            urls.append((year, vol, issue, url))\n",
    "    else:\n",
    "        for issue in range(1, 7):\n",
    "            url = base_url + \"/\" + str(vol) + \"/\" + str(issue) + '?nav=tocList'\n",
    "            urls.append((year, vol, issue, url))\n",
    "    year += 1\n",
    "\n",
    "book_urls = pd.DataFrame(urls, columns = [\"Year\", \"Vol\", \"Issue\", \"BookUrl\"])\n",
    "book_urls[\"BookId\"] = book_urls[\"Year\"].astype(str) + \"-\" + book_urls[\"Vol\"].astype(str) + \"-\" + book_urls[\"Issue\"].astype(str)\n",
    "book_urls[\"Journal\"] = \"JITS\""
   ]
  },
  {
   "cell_type": "code",
   "execution_count": 5,
   "metadata": {
    "tags": []
   },
   "outputs": [],
   "source": [
    "article_base_url = 'https://www.tandfonline.com'\n",
    "titles = []\n",
    "a_urls = []\n",
    "authors = []\n",
    "bookids = []\n",
    "\n",
    "for row in book_urls.iterrows():\n",
    "    bookid = row[1]['BookId']\n",
    "    bookurl = row[1]['BookUrl']\n",
    "    page = requests.get(bookurl, headers = headers)\n",
    "    soup = BeautifulSoup(page.content, 'html.parser')\n",
    "\n",
    "    for article in soup.find_all('div', {\"class\": \"articleEntry\"}):\n",
    "        for div in article.find_all('div'):           \n",
    "            if \"art_title\" in div['class']:\n",
    "                for a in div.find_all('a'):\n",
    "                    a_urls.append(article_base_url + a['href'])\n",
    "                    for span in a.find_all('span'):\n",
    "                        titles.append(span.get_text())\n",
    "                        bookids.append(bookid)\n",
    "            if \"tocAuthors\" in div['class']:\n",
    "                for divl in div.find_all('div', {\"class\": \"articleEntryAuthor\"}):\n",
    "                    author = []\n",
    "                    for a in divl.find_all('a'): \n",
    "                        author.append(a.get_text())\n",
    "                    authors.append(author)\n",
    "    time.sleep(2)"
   ]
  },
  {
   "cell_type": "code",
   "execution_count": 11,
   "metadata": {},
   "outputs": [],
   "source": [
    "paper_urls = pd.DataFrame(list(zip(bookids, titles, a_urls, authors)), columns = ['BookId', 'Titles', 'Urls', 'Authors'])\n",
    "paper_urls['Authors'] = paper_urls['Authors'].apply(lambda x: ','.join(map(str, x)))"
   ]
  },
  {
   "cell_type": "code",
   "execution_count": 23,
   "metadata": {},
   "outputs": [],
   "source": [
    "# to be changed\n",
    "conn = sql.connect(\"jits.db\")\n",
    "book_urls.to_sql(\"book_urls\", conn, index = False)\n",
    "paper_urls.to_sql(\"paper_urls\", conn, index = False)\n",
    "conn.close()"
   ]
  }
 ]
}