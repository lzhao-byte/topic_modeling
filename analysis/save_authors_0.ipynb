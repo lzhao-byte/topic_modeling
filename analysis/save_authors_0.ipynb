{
 "metadata": {
  "language_info": {
   "codemirror_mode": {
    "name": "ipython",
    "version": 3
   },
   "file_extension": ".py",
   "mimetype": "text/x-python",
   "name": "python",
   "nbconvert_exporter": "python",
   "pygments_lexer": "ipython3",
   "version": "3.7.6-final"
  },
  "orig_nbformat": 2,
  "kernelspec": {
   "name": "python3",
   "display_name": "Python 3"
  }
 },
 "nbformat": 4,
 "nbformat_minor": 2,
 "cells": [
  {
   "source": [
    "## save authors and affiliation information\n",
    "\n",
    "### Inputs\n",
    "\n",
    "- PAPERS_INFO/JITS/JITS_PAPER_AUTHORS\n",
    "- PAPERS_INFO/PROCESSED/JITS_REGULAR\n",
    "\n",
    "### Outputs\n",
    "\n",
    "- PAPERS_INFO/PROCESSED/JITS_AUTHORS \n",
    "- PAPERS_INFO/PROCESSED/JITS_AFFILIATIONS"
   ],
   "cell_type": "markdown",
   "metadata": {}
  },
  {
   "cell_type": "code",
   "execution_count": 8,
   "metadata": {},
   "outputs": [],
   "source": [
    "import numpy as np\n",
    "import pandas as pd\n",
    "import matplotlib.pyplot as plt\n",
    "from unidecode import unidecode\n",
    "import re"
   ]
  },
  {
   "cell_type": "code",
   "execution_count": 9,
   "metadata": {},
   "outputs": [],
   "source": [
    "authors = pd.read_csv('../papers_info/jits/jits_paper_authors.csv')\n",
    "papers = pd.read_csv('../papers_info/processed/jits_regular.csv')\n",
    "\n",
    "affils = authors.merge(papers, on ='paper_id')[['paper_id','affiliation','year']] #paper_id,affiliation,year,journal\n",
    "affils['journal'] = 'jits'\n",
    "\n",
    "authors = authors.merge(papers, on = 'paper_id')[['paper_id', 'author_name', 'year', 'author_id']] #paper_id,author_name,year,author_id,journal\n",
    "authors['journal'] = 'jits'\n",
    "\n",
    "authors.to_csv('../papers_info/processed/jits_authors.csv', index = False)\n",
    "affils.to_csv('../papers_info/processed/jits_affiliations.csv', index = False)"
   ]
  }
 ]
}