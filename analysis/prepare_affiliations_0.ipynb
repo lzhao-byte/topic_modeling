{
 "metadata": {
  "language_info": {
   "codemirror_mode": {
    "name": "ipython",
    "version": 3
   },
   "file_extension": ".py",
   "mimetype": "text/x-python",
   "name": "python",
   "nbconvert_exporter": "python",
   "pygments_lexer": "ipython3",
   "version": "3.7.6-final"
  },
  "orig_nbformat": 2,
  "kernelspec": {
   "name": "python3",
   "display_name": "Python 3.7.6 64-bit ('gatech': conda)",
   "metadata": {
    "interpreter": {
     "hash": "6c1155f863d4337240da029764ab92710ddb55e52734e0e03582fbcfef0cf508"
    }
   }
  }
 },
 "nbformat": 4,
 "nbformat_minor": 2,
 "cells": [
  {
   "source": [
    "## Clean up affiliation information\n",
    "\n",
    "### Inputs\n",
    "\n",
    "- PAPERS_INFO/PROCESSED/JITS_AFFILIATIONS\n",
    "\n",
    "### Outputs\n",
    "\n",
    "- PAPERS_INFO/PROCESSED/JITS_AFFILIATIONS_PRO"
   ],
   "cell_type": "markdown",
   "metadata": {}
  },
  {
   "cell_type": "code",
   "execution_count": null,
   "metadata": {},
   "outputs": [],
   "source": [
    "import numpy as np\n",
    "import pandas as pd\n",
    "import matplotlib.pyplot as plt\n",
    "from unidecode import unidecode\n",
    "import re\n",
    "import pycountry"
   ]
  },
  {
   "cell_type": "code",
   "execution_count": null,
   "metadata": {},
   "outputs": [],
   "source": [
    "jits = pd.read_csv('../papers_info/processed/jits_affiliations.csv')[['paper_id', 'affiliation', 'year', 'journal']]"
   ]
  },
  {
   "cell_type": "code",
   "execution_count": null,
   "metadata": {},
   "outputs": [],
   "source": [
    "affils = pd.concat([jits, tits, trc]).dropna()\n",
    "affils['affpro'] = affils.affiliation.map(lambda x: unidecode(x))\n",
    "affils['affpro']  = affils['affpro'].map(lambda x: re.sub('[^\\x00-\\x7f]', '', x))\n",
    "affils['affpro']  = affils['affpro'].map(lambda x: x.replace('&amp;', '&'))\n",
    "affils['affpro']  = affils['affpro'].map(lambda x: x.replace('.', ''))\n",
    "affils['affpro']  = affils['affpro'].map(lambda x: x.split(\";\")[0])"
   ]
  },
  {
   "cell_type": "code",
   "execution_count": null,
   "metadata": {},
   "outputs": [],
   "source": [
    "list(pycountry.countries)[17]"
   ]
  },
  {
   "cell_type": "code",
   "execution_count": null,
   "metadata": {},
   "outputs": [],
   "source": [
    "names = [country.name.split(\",\")[0] for country in pycountry.countries]\n",
    "alphas_2 = [country.alpha_2 for country in pycountry.countries]\n",
    "alphas_3 = [country.alpha_3 for country in pycountry.countries]\n",
    "\n",
    "corrections = {'Bologna': 'Italy', 'Ghent': 'Belgium', 'Toronto': 'Canada', 'Maryland': 'United States', 'Minnesota': 'United States', 'Illinois': 'United States', 'California': 'United States', 'Massachusetts': 'United States', 'Beijing': 'China', 'Macau': 'Macau', 'Sao Paulo': 'Brazil', 'Chinese': 'China', 'Otokar': 'Turkey', 'Ford': 'United States', 'San Jose': 'United States', 'Tofas-Fiat': 'Turkey', 'Tecnologia e Ciencia': 'Portugal', 'Catalonia': 'Spain', 'de Belfort-Montbeliard': 'France', 'de Recherche en Informatique': 'France'}"
   ]
  },
  {
   "cell_type": "code",
   "execution_count": null,
   "metadata": {},
   "outputs": [],
   "source": [
    "def get_name(s):\n",
    "    for n in names:\n",
    "        if n in s:\n",
    "            return n\n",
    "        elif n == 'Czechia':\n",
    "            if 'Czech' in s:\n",
    "                return n\n",
    "        elif n == 'United States':\n",
    "            if 'USA' in s:\n",
    "                return n\n",
    "        elif n == 'United Kingdom':\n",
    "            if 'UK' in s or 'England' in s:\n",
    "                return n\n",
    "        elif n == 'Syrian Arab Republic':\n",
    "            if 'Syria' in s:\n",
    "                return n\n",
    "        elif n == 'United Arab Emirates':\n",
    "            if 'UAE' in s:\n",
    "                return n\n",
    "            elif 'United Arab' in s:\n",
    "                return n\n",
    "        elif n == 'Russian Federation':\n",
    "            if 'Russia' in s:\n",
    "                return n\n",
    "        elif n == 'Viet Nam':\n",
    "            if 'Vietnam' in s:\n",
    "                return n\n",
    "    for k, v in corrections.items():\n",
    "        if k in s:\n",
    "            return n\n",
    "    return ''\n",
    "affils['country'] = affils.affpro.apply(get_name)"
   ]
  },
  {
   "cell_type": "code",
   "execution_count": null,
   "metadata": {},
   "outputs": [],
   "source": [
    "affils = affils[affils.country != '']\n",
    "affils.to_csv('../papers_info/processed/jits_affiliations_pro.csv', index = False)"
   ]
  }
 ]
}